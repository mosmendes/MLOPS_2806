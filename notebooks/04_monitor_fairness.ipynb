{
 "cells": [
  {
   "cell_type": "markdown",
   "id": "1a7d7e2c",
   "metadata": {},
   "source": [
    "Monitoramento e Fairness"
   ]
  },
  {
   "cell_type": "code",
   "execution_count": 37,
   "id": "7be55683",
   "metadata": {},
   "outputs": [],
   "source": [
    "import pandas as pd\n",
    "import joblib\n",
    "from sklearn.metrics import classification_report, confusion_matrix\n",
    "import matplotlib.pyplot as plt\n",
    "import seaborn as sns\n",
    "import os"
   ]
  },
  {
   "cell_type": "markdown",
   "id": "77991a00",
   "metadata": {},
   "source": [
    "Carregar modelo e vetor já treinados"
   ]
  },
  {
   "cell_type": "code",
   "execution_count": 38,
   "id": "a04ca74c",
   "metadata": {},
   "outputs": [
    {
     "data": {
      "text/html": [
       "<div>\n",
       "<style scoped>\n",
       "    .dataframe tbody tr th:only-of-type {\n",
       "        vertical-align: middle;\n",
       "    }\n",
       "\n",
       "    .dataframe tbody tr th {\n",
       "        vertical-align: top;\n",
       "    }\n",
       "\n",
       "    .dataframe thead th {\n",
       "        text-align: right;\n",
       "    }\n",
       "</style>\n",
       "<table border=\"1\" class=\"dataframe\">\n",
       "  <thead>\n",
       "    <tr style=\"text-align: right;\">\n",
       "      <th></th>\n",
       "      <th>text</th>\n",
       "      <th>label</th>\n",
       "      <th>text_length</th>\n",
       "    </tr>\n",
       "  </thead>\n",
       "  <tbody>\n",
       "    <tr>\n",
       "      <th>0</th>\n",
       "      <td>Adorei o produto de investimentos no mercado d...</td>\n",
       "      <td>positivo</td>\n",
       "      <td>56</td>\n",
       "    </tr>\n",
       "    <tr>\n",
       "      <th>1</th>\n",
       "      <td>O serviço de instalação internet foi péssimo. ...</td>\n",
       "      <td>negativo</td>\n",
       "      <td>59</td>\n",
       "    </tr>\n",
       "    <tr>\n",
       "      <th>2</th>\n",
       "      <td>Tudo dentro do esperado</td>\n",
       "      <td>neutro</td>\n",
       "      <td>23</td>\n",
       "    </tr>\n",
       "    <tr>\n",
       "      <th>3</th>\n",
       "      <td>Foi ok</td>\n",
       "      <td>neutro</td>\n",
       "      <td>6</td>\n",
       "    </tr>\n",
       "    <tr>\n",
       "      <th>4</th>\n",
       "      <td>Serviço horrível</td>\n",
       "      <td>negativo</td>\n",
       "      <td>16</td>\n",
       "    </tr>\n",
       "  </tbody>\n",
       "</table>\n",
       "</div>"
      ],
      "text/plain": [
       "                                                text     label  text_length\n",
       "0  Adorei o produto de investimentos no mercado d...  positivo           56\n",
       "1  O serviço de instalação internet foi péssimo. ...  negativo           59\n",
       "2                            Tudo dentro do esperado    neutro           23\n",
       "3                                             Foi ok    neutro            6\n",
       "4                                   Serviço horrível  negativo           16"
      ]
     },
     "metadata": {},
     "output_type": "display_data"
    }
   ],
   "source": [
    "modelo_path = \"../model.joblib\"\n",
    "vetor_path = \"../vectorizer.joblib\"\n",
    "dados_path = \"../data/tweets_limpo.csv\"\n",
    "\n",
    "if not (os.path.exists(modelo_path) and os.path.exists(vetor_path)):\n",
    "    raise FileExistsError(\"Treine e salve o modelo antes de executar\")\n",
    "\n",
    "model = joblib.load(modelo_path)\n",
    "vectorizer = joblib.load(vetor_path)\n",
    "df = pd.read_csv(dados_path)\n",
    "display(df.head())\n",
    "\n"
   ]
  },
  {
   "cell_type": "markdown",
   "id": "c0ce0334",
   "metadata": {},
   "source": [
    "Monitoramento"
   ]
  },
  {
   "cell_type": "code",
   "execution_count": 39,
   "id": "2d5217e1",
   "metadata": {},
   "outputs": [
    {
     "data": {
      "text/html": [
       "<div>\n",
       "<style scoped>\n",
       "    .dataframe tbody tr th:only-of-type {\n",
       "        vertical-align: middle;\n",
       "    }\n",
       "\n",
       "    .dataframe tbody tr th {\n",
       "        vertical-align: top;\n",
       "    }\n",
       "\n",
       "    .dataframe thead th {\n",
       "        text-align: right;\n",
       "    }\n",
       "</style>\n",
       "<table border=\"1\" class=\"dataframe\">\n",
       "  <thead>\n",
       "    <tr style=\"text-align: right;\">\n",
       "      <th></th>\n",
       "      <th>text</th>\n",
       "    </tr>\n",
       "  </thead>\n",
       "  <tbody>\n",
       "    <tr>\n",
       "      <th>0</th>\n",
       "      <td>Muito ruim, não gostei do atendimento.</td>\n",
       "    </tr>\n",
       "    <tr>\n",
       "      <th>1</th>\n",
       "      <td>A entrega foi sensacional.</td>\n",
       "    </tr>\n",
       "    <tr>\n",
       "      <th>2</th>\n",
       "      <td>Não funcionou, me decepcionei.</td>\n",
       "    </tr>\n",
       "    <tr>\n",
       "      <th>3</th>\n",
       "      <td>Recomendo para todos, nota 10! Top</td>\n",
       "    </tr>\n",
       "    <tr>\n",
       "      <th>4</th>\n",
       "      <td>Recomendo para todos Top</td>\n",
       "    </tr>\n",
       "  </tbody>\n",
       "</table>\n",
       "</div>"
      ],
      "text/plain": [
       "                                     text\n",
       "0  Muito ruim, não gostei do atendimento.\n",
       "1              A entrega foi sensacional.\n",
       "2          Não funcionou, me decepcionei.\n",
       "3      Recomendo para todos, nota 10! Top\n",
       "4                Recomendo para todos Top"
      ]
     },
     "metadata": {},
     "output_type": "display_data"
    }
   ],
   "source": [
    "novos_textos = [\n",
    "    'Muito ruim, não gostei do atendimento.',\n",
    "    'A entrega foi sensacional.',\n",
    "    'Não funcionou, me decepcionei.',\n",
    "    'Recomendo para todos, nota 10! Top',\n",
    "    'Recomendo para todos Top',\n",
    "]\n",
    "\n",
    "novos_df = pd.DataFrame({f'text': novos_textos})\n",
    "display(novos_df)\n",
    "\n"
   ]
  },
  {
   "cell_type": "markdown",
   "id": "2f33091c",
   "metadata": {},
   "source": [
    "Vetorizar e predição"
   ]
  },
  {
   "cell_type": "code",
   "execution_count": 40,
   "id": "3b83a45b",
   "metadata": {},
   "outputs": [
    {
     "name": "stdout",
     "output_type": "stream",
     "text": [
      "                                     text sentimento_predito\n",
      "0  Muito ruim, não gostei do atendimento.           positivo\n",
      "1              A entrega foi sensacional.           negativo\n",
      "2          Não funcionou, me decepcionei.             neutro\n",
      "3      Recomendo para todos, nota 10! Top           positivo\n",
      "4                Recomendo para todos Top           negativo\n"
     ]
    }
   ],
   "source": [
    "novos_vetores = vectorizer.transform(novos_df[\"text\"])\n",
    "novos_preds = model.predict(novos_vetores)\n",
    "novos_df['sentimento_predito'] = novos_preds\n",
    "print(novos_df)"
   ]
  },
  {
   "cell_type": "markdown",
   "id": "15201cb9",
   "metadata": {},
   "source": [
    "Porcentagem de cada classe"
   ]
  },
  {
   "cell_type": "code",
   "execution_count": 41,
   "id": "eff051d2",
   "metadata": {},
   "outputs": [
    {
     "name": "stdout",
     "output_type": "stream",
     "text": [
      "Distribuição dos sentimentos preditos nos novos dados:\n",
      "sentimento_predito\n",
      "positivo    0.4\n",
      "negativo    0.4\n",
      "neutro      0.2\n",
      "Name: proportion, dtype: float64\n"
     ]
    }
   ],
   "source": [
    "class_dist = novos_df['sentimento_predito'].value_counts(normalize=True)\n",
    "print('Distribuição dos sentimentos preditos nos novos dados:')\n",
    "print(class_dist)"
   ]
  },
  {
   "cell_type": "markdown",
   "id": "5f3a66e6",
   "metadata": {},
   "source": [
    "Fairness - Vieses"
   ]
  },
  {
   "cell_type": "code",
   "execution_count": 42,
   "id": "6d795e0f",
   "metadata": {},
   "outputs": [
    {
     "data": {
      "text/plain": [
       "0     medio\n",
       "1     medio\n",
       "2     curto\n",
       "3     curto\n",
       "4     curto\n",
       "5     curto\n",
       "6     curto\n",
       "7     curto\n",
       "8     curto\n",
       "9     curto\n",
       "10    curto\n",
       "11    curto\n",
       "12    curto\n",
       "13    curto\n",
       "14    curto\n",
       "15    curto\n",
       "16    curto\n",
       "17    curto\n",
       "18    curto\n",
       "19    curto\n",
       "20    curto\n",
       "21    curto\n",
       "22    curto\n",
       "23    curto\n",
       "24    curto\n",
       "25    curto\n",
       "26    curto\n",
       "27    curto\n",
       "28    curto\n",
       "29    longo\n",
       "30    longo\n",
       "31    longo\n",
       "32    longo\n",
       "33    longo\n",
       "34    longo\n",
       "Name: len_category, dtype: category\n",
       "Categories (3, object): ['curto' < 'medio' < 'longo']"
      ]
     },
     "metadata": {},
     "output_type": "display_data"
    }
   ],
   "source": [
    "df['text_len'] = df['text'].apply(len)\n",
    "df['len_category'] = pd.cut(df['text_len'], bins=[0,50,150,1000], labels=['curto','medio','longo'])\n",
    "\n",
    "display(df['len_category'])"
   ]
  },
  {
   "cell_type": "markdown",
   "id": "81f81a1e",
   "metadata": {},
   "source": [
    "Predições conjunto de validação"
   ]
  },
  {
   "cell_type": "code",
   "execution_count": 43,
   "id": "acc94e36",
   "metadata": {},
   "outputs": [
    {
     "data": {
      "text/plain": [
       "0     positivo\n",
       "1     negativo\n",
       "2       neutro\n",
       "3       neutro\n",
       "4     negativo\n",
       "5     negativo\n",
       "6     positivo\n",
       "7     negativo\n",
       "8     positivo\n",
       "9     negativo\n",
       "10    positivo\n",
       "11    negativo\n",
       "12    positivo\n",
       "13      neutro\n",
       "14    positivo\n",
       "15    negativo\n",
       "16    positivo\n",
       "17    positivo\n",
       "18    positivo\n",
       "19    negativo\n",
       "20      neutro\n",
       "21      neutro\n",
       "22      neutro\n",
       "23      neutro\n",
       "24      neutro\n",
       "25      neutro\n",
       "26      neutro\n",
       "27      neutro\n",
       "28      neutro\n",
       "29    positivo\n",
       "30    negativo\n",
       "31      neutro\n",
       "32    negativo\n",
       "33      neutro\n",
       "34    positivo\n",
       "Name: pred, dtype: object"
      ]
     },
     "metadata": {},
     "output_type": "display_data"
    }
   ],
   "source": [
    "vetores = vectorizer.transform(df['text'])\n",
    "df['pred'] = model.predict(vetores)\n",
    "display(df['pred'])"
   ]
  },
  {
   "cell_type": "markdown",
   "id": "2cf13909",
   "metadata": {},
   "source": [
    "Avaliação de acurácia"
   ]
  },
  {
   "cell_type": "code",
   "execution_count": 44,
   "id": "ab690e58",
   "metadata": {},
   "outputs": [
    {
     "name": "stdout",
     "output_type": "stream",
     "text": [
      "Acuracia para os textos medio: 1.00 N=2\n",
      "Acuracia para os textos curto: 0.96 N=27\n",
      "Acuracia para os textos longo: 1.00 N=6\n"
     ]
    }
   ],
   "source": [
    "for cat in df['len_category'].unique():\n",
    "    subset = df[df['len_category']== cat]\n",
    "    if not subset.empty:\n",
    "        acuracia = (subset['label'] == subset['pred']).mean()\n",
    "        print(f'Acuracia para os textos {cat}: {acuracia:.2f} N={len(subset)}')"
   ]
  },
  {
   "cell_type": "markdown",
   "id": "f8400947",
   "metadata": {},
   "source": [
    "Desafio fairness"
   ]
  },
  {
   "cell_type": "code",
   "execution_count": 45,
   "id": "82a05e12",
   "metadata": {},
   "outputs": [
    {
     "name": "stdout",
     "output_type": "stream",
     "text": [
      "Matriz de confusão para textos medio:\n",
      "[[1 0]\n",
      " [0 1]]\n"
     ]
    },
    {
     "data": {
      "image/png": "[encoded data removed]",
      "text/plain": [
       "<Figure size 640x480 with 2 Axes>"
      ]
     },
     "metadata": {},
     "output_type": "display_data"
    },
    {
     "name": "stdout",
     "output_type": "stream",
     "text": [
      "Matriz de confusão para textos curto:\n",
      "[[ 7  1  0]\n",
      " [ 0 11  0]\n",
      " [ 0  0  8]]\n"
     ]
    },
    {
     "data": {
      "image/png": "[encoded data removed]",
      "text/plain": [
       "<Figure size 640x480 with 2 Axes>"
      ]
     },
     "metadata": {},
     "output_type": "display_data"
    },
    {
     "name": "stdout",
     "output_type": "stream",
     "text": [
      "Matriz de confusão para textos longo:\n",
      "[[2 0 0]\n",
      " [0 2 0]\n",
      " [0 0 2]]\n"
     ]
    },
    {
     "data": {
      "image/png": "[encoded data removed]",
      "text/plain": [
       "<Figure size 640x480 with 2 Axes>"
      ]
     },
     "metadata": {},
     "output_type": "display_data"
    }
   ],
   "source": [
    "for cat in df['len_category'].unique():\n",
    "    subset = df[df['len_category'] == cat]\n",
    "    if not subset.empty:\n",
    "        print(f'Matriz de confusão para textos {cat}:')\n",
    "        print(confusion_matrix(subset['label'], subset[\"pred\"]))\n",
    "        sns.heatmap(confusion_matrix(subset['label'], subset[\"pred\"]),\n",
    "                    annot=True, fmt='d', cmap=\"Blues\",\n",
    "                    xticklabels=['Previsto negativo','Previsto Neutro','Previsto positivo'],\n",
    "                    yticklabels=['Real positivo','Real neutro','Real positivo'])\n",
    "        plt.title(f'Textos {cat}')\n",
    "        plt.xlabel('Predito')\n",
    "        plt.ylabel('Real')\n",
    "        plt.show()\n"
   ]
  }
 ],
 "metadata": {
  "kernelspec": {
   "display_name": ".venv",
   "language": "python",
   "name": "python3"
  },
  "language_info": {
   "codemirror_mode": {
    "name": "ipython",
    "version": 3
   },
   "file_extension": ".py",
   "mimetype": "text/x-python",
   "name": "python",
   "nbconvert_exporter": "python",
   "pygments_lexer": "ipython3",
   "version": "3.11.9"
  }
 },
 "nbformat": 4,
 "nbformat_minor": 5
}
