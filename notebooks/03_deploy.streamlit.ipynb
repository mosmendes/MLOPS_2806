{
 "cells": [
  {
   "cell_type": "markdown",
   "id": "65972850",
   "metadata": {},
   "source": [
    "Deploy interativo"
   ]
  },
  {
   "cell_type": "code",
   "execution_count": null,
   "id": "6d9baddf",
   "metadata": {},
   "outputs": [],
   "source": [
    "import streamlit as st \n",
    "import joblib\n",
    "import os\n",
    "\n",
    "st.set_page_config(page_title=\"Demo de sntimentos\", layout=\"centered\")\n",
    "st.header(\"classificação de sentimentos em tweets\")\n",
    "\n",
    "input_text = st.text_area(\"Digite um tweet para análise\", height=150)\n",
    "\n",
    "modelo_path = \"../model.joblib\"\n",
    "vector_path = \"../vectorizer.joblib\"\n",
    "\n",
    "if os.path.exists(modelo_path) and os.path.exists(vector_path):\n",
    "    modelo = joblib.load(modelo_path)\n",
    "    vectorizer = joblib.load(vector_path)\n",
    "\n",
    "    if st.button(\"Classificar\"):\n",
    "        if input_text.strip():\n",
    "            texto_vector = vectorizer.transform([input_text])\n",
    "            pred = model.predict(texto_vector)[0]\n",
    "            st.success(f\"Sentimento previsto: {pred}\")\n",
    "        else:\n",
    "            st.warning(\"Digite algum texto para classificar\")\n",
    "else:\n",
    "    st.error(\"Arquivos de modelo ou vetor ausentes.\")\n",
    "\n",
    "\n"
   ]
  }
 ],
 "metadata": {
  "kernelspec": {
   "display_name": ".venv",
   "language": "python",
   "name": "python3"
  },
  "language_info": {
   "name": "python",
   "version": "3.11.9"
  }
 },
 "nbformat": 4,
 "nbformat_minor": 5
}
